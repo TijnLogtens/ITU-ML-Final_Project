{
 "cells": [
  {
   "cell_type": "code",
   "execution_count": 38,
   "metadata": {},
   "outputs": [],
   "source": [
    "from sklearn import preprocessing \n",
    "from sklearn.neighbors import KNeighborsClassifier\n",
    "import matplotlib.pyplot as plt\n",
    "import pandas as pd\n",
    "import numpy as np\n",
    "from sklearn import metrics\n",
    "import math"
   ]
  },
  {
   "cell_type": "code",
   "execution_count": 149,
   "metadata": {},
   "outputs": [],
   "source": [
    "train = pd.read_csv(\"Final_project_DATA/df_train.csv\")\n",
    "test = pd.read_csv(\"Final_project_DATA/df_test.csv\")"
   ]
  },
  {
   "cell_type": "code",
   "execution_count": 150,
   "metadata": {},
   "outputs": [],
   "source": [
    "X_train = train.drop('type', axis = 1)\n",
    "y_train = train['type']\n",
    "X_test = test.drop('type',axis = 1)\n",
    "y_test = test['type']"
   ]
  },
  {
   "cell_type": "code",
   "execution_count": 151,
   "metadata": {},
   "outputs": [],
   "source": [
    "scaler = preprocessing.MaxAbsScaler()\n",
    "X_train = scaler.fit_transform(X_train)\n",
    "X_test = scaler.fit_transform(X_test)"
   ]
  },
  {
   "cell_type": "code",
   "execution_count": 152,
   "metadata": {},
   "outputs": [
    {
     "data": {
      "text/plain": [
       "array([[0.98986916, 0.73935558, 0.92211055, ..., 0.53613342, 0.        ,\n",
       "        0.94594595],\n",
       "       [0.99144681, 0.79286536, 0.57286432, ..., 0.60840025, 0.        ,\n",
       "        0.45945946],\n",
       "       [0.98901514, 0.78941312, 0.92462312, ..., 0.4867202 , 0.        ,\n",
       "        0.        ],\n",
       "       ...,\n",
       "       [0.99329826, 0.90851554, 0.45979899, ..., 0.53180976, 0.53333333,\n",
       "        0.        ],\n",
       "       [0.98812201, 0.73187572, 0.86934673, ..., 0.49969117, 0.        ,\n",
       "        0.64864865],\n",
       "       [0.98952364, 0.73245109, 0.86180905, ..., 0.54107474, 0.        ,\n",
       "        0.81081081]])"
      ]
     },
     "execution_count": 152,
     "metadata": {},
     "output_type": "execute_result"
    }
   ],
   "source": [
    "X_train"
   ]
  },
  {
   "cell_type": "markdown",
   "metadata": {},
   "source": [
    "## Dim reduction PCA"
   ]
  },
  {
   "cell_type": "code",
   "execution_count": 153,
   "metadata": {},
   "outputs": [],
   "source": [
    "from sklearn.decomposition import PCA\n",
    "pca = PCA(n_components = 3)\n",
    "x_pca = pca.fit_transform(X_train)\n",
    "\n",
    "from sklearn.decomposition import PCA\n",
    "pca_test = PCA(n_components = 3)\n",
    "x_pca_test = pca_test.fit_transform(X_test)"
   ]
  },
  {
   "cell_type": "code",
   "execution_count": 154,
   "metadata": {},
   "outputs": [
    {
     "name": "stdout",
     "output_type": "stream",
     "text": [
      "[0.54544521 0.24929576 0.10988805]\n"
     ]
    }
   ],
   "source": [
    "explained_variance = pca.explained_variance_ratio_\n",
    "print(explained_variance)"
   ]
  },
  {
   "cell_type": "code",
   "execution_count": 155,
   "metadata": {},
   "outputs": [
    {
     "name": "stdout",
     "output_type": "stream",
     "text": [
      "12\n"
     ]
    }
   ],
   "source": [
    "print(int(math.sqrt(len(train))))"
   ]
  },
  {
   "cell_type": "code",
   "execution_count": 156,
   "metadata": {},
   "outputs": [],
   "source": [
    "# train point \n",
    "k=int(math.sqrt(len(train)))\n",
    "knn_clf=KNeighborsClassifier(n_neighbors = k)\n",
    "knn_clf.fit(x_pca,y_train)\n",
    "y_pred=knn_clf.predict(x_pca_test) #These are the predicted output values"
   ]
  },
  {
   "cell_type": "code",
   "execution_count": 157,
   "metadata": {},
   "outputs": [
    {
     "data": {
      "text/plain": [
       "array([1, 1, 1, 7, 1, 7, 2, 1, 1, 1, 2, 1, 2, 2, 1, 1, 6, 1, 2, 6, 7, 7,\n",
       "       2, 2, 2, 2, 2, 1, 2, 7, 2, 1, 1, 1, 5, 1, 2, 7, 1, 2, 1, 2, 7, 1,\n",
       "       7, 1, 7, 1, 1, 1, 2, 1, 1, 1, 1, 7, 1, 2, 1, 7, 1, 1, 1, 2, 1],\n",
       "      dtype=int64)"
      ]
     },
     "execution_count": 157,
     "metadata": {},
     "output_type": "execute_result"
    }
   ],
   "source": [
    "y_pred"
   ]
  },
  {
   "cell_type": "code",
   "execution_count": 158,
   "metadata": {},
   "outputs": [
    {
     "name": "stdout",
     "output_type": "stream",
     "text": [
      "Confusion Matrix: \n",
      "[[18  3  0  0  0  0]\n",
      " [11 10  0  0  0  2]\n",
      " [ 2  3  0  0  0  0]\n",
      " [ 0  1  0  0  0  3]\n",
      " [ 2  1  0  0  0  0]\n",
      " [ 0  0  0  1  2  6]]\n",
      "Classification Report:\n",
      "              precision    recall  f1-score   support\n",
      "\n",
      "           1       0.55      0.86      0.67        21\n",
      "           2       0.56      0.43      0.49        23\n",
      "           3       0.00      0.00      0.00         5\n",
      "           5       0.00      0.00      0.00         4\n",
      "           6       0.00      0.00      0.00         3\n",
      "           7       0.55      0.67      0.60         9\n",
      "\n",
      "    accuracy                           0.52        65\n",
      "   macro avg       0.27      0.33      0.29        65\n",
      "weighted avg       0.45      0.52      0.47        65\n",
      "\n",
      "Accuracy: 0.5230769230769231\n"
     ]
    },
    {
     "name": "stderr",
     "output_type": "stream",
     "text": [
      "D:\\flavi\\Anaconda\\lib\\site-packages\\sklearn\\metrics\\_classification.py:1221: UndefinedMetricWarning: Precision and F-score are ill-defined and being set to 0.0 in labels with no predicted samples. Use `zero_division` parameter to control this behavior.\n",
      "  _warn_prf(average, modifier, msg_start, len(result))\n",
      "D:\\flavi\\Anaconda\\lib\\site-packages\\sklearn\\metrics\\_classification.py:1221: UndefinedMetricWarning: Precision and F-score are ill-defined and being set to 0.0 in labels with no predicted samples. Use `zero_division` parameter to control this behavior.\n",
      "  _warn_prf(average, modifier, msg_start, len(result))\n",
      "D:\\flavi\\Anaconda\\lib\\site-packages\\sklearn\\metrics\\_classification.py:1221: UndefinedMetricWarning: Precision and F-score are ill-defined and being set to 0.0 in labels with no predicted samples. Use `zero_division` parameter to control this behavior.\n",
      "  _warn_prf(average, modifier, msg_start, len(result))\n"
     ]
    }
   ],
   "source": [
    "from sklearn.metrics import classification_report, confusion_matrix, accuracy_score\n",
    "conf_matrix = confusion_matrix(y_test, y_pred)\n",
    "print('Confusion Matrix: ')\n",
    "print(conf_matrix)\n",
    "rep = classification_report(y_test, y_pred)\n",
    "print('Classification Report:',)\n",
    "print (rep)\n",
    "acc = accuracy_score(y_test,y_pred)\n",
    "print('Accuracy:',acc)"
   ]
  },
  {
   "cell_type": "code",
   "execution_count": null,
   "metadata": {},
   "outputs": [],
   "source": []
  }
 ],
 "metadata": {
  "kernelspec": {
   "display_name": "Python 3",
   "language": "python",
   "name": "python3"
  },
  "language_info": {
   "codemirror_mode": {
    "name": "ipython",
    "version": 3
   },
   "file_extension": ".py",
   "mimetype": "text/x-python",
   "name": "python",
   "nbconvert_exporter": "python",
   "pygments_lexer": "ipython3",
   "version": "3.7.2"
  }
 },
 "nbformat": 4,
 "nbformat_minor": 2
}

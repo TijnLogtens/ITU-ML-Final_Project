{
 "cells": [
  {
   "cell_type": "code",
   "execution_count": 33,
   "metadata": {},
   "outputs": [],
   "source": [
    "from sklearn import preprocessing \n",
    "from sklearn.neighbors import KNeighborsClassifier\n",
    "import matplotlib.pyplot as plt\n",
    "import pandas as pd\n",
    "import numpy as np\n",
    "from sklearn import metrics\n",
    "import math"
   ]
  },
  {
   "cell_type": "code",
   "execution_count": 34,
   "metadata": {},
   "outputs": [],
   "source": [
    "train = pd.read_csv(\"Final_project_DATA/df_train.csv\")\n",
    "test = pd.read_csv(\"Final_project_DATA/df_test.csv\")"
   ]
  },
  {
   "cell_type": "code",
   "execution_count": 35,
   "metadata": {},
   "outputs": [],
   "source": [
    "X_train = train.drop('type', axis = 1)\n",
    "y_train = train['type']\n",
    "X_test = test.drop('type',axis = 1)\n",
    "y_test = test['type']"
   ]
  },
  {
   "cell_type": "code",
   "execution_count": 36,
   "metadata": {},
   "outputs": [],
   "source": [
    "scaler = preprocessing.MaxAbsScaler()\n",
    "X_train = scaler.fit_transform(X_train)\n",
    "X_test = scaler.fit_transform(X_test)"
   ]
  },
  {
   "cell_type": "code",
   "execution_count": 37,
   "metadata": {},
   "outputs": [
    {
     "data": {
      "text/plain": [
       "array([[0.98986916, 0.73935558, 0.92211055, ..., 0.53613342, 0.        ,\n",
       "        0.94594595],\n",
       "       [0.99144681, 0.79286536, 0.57286432, ..., 0.60840025, 0.        ,\n",
       "        0.45945946],\n",
       "       [0.98901514, 0.78941312, 0.92462312, ..., 0.4867202 , 0.        ,\n",
       "        0.        ],\n",
       "       ...,\n",
       "       [0.99329826, 0.90851554, 0.45979899, ..., 0.53180976, 0.53333333,\n",
       "        0.        ],\n",
       "       [0.98812201, 0.73187572, 0.86934673, ..., 0.49969117, 0.        ,\n",
       "        0.64864865],\n",
       "       [0.98952364, 0.73245109, 0.86180905, ..., 0.54107474, 0.        ,\n",
       "        0.81081081]])"
      ]
     },
     "execution_count": 37,
     "metadata": {},
     "output_type": "execute_result"
    }
   ],
   "source": [
    "X_train"
   ]
  },
  {
   "cell_type": "markdown",
   "metadata": {},
   "source": [
    "## Dim reduction PCA"
   ]
  },
  {
   "cell_type": "code",
   "execution_count": 77,
   "metadata": {},
   "outputs": [],
   "source": [
    "from sklearn.decomposition import PCA\n",
    "pca = PCA(n_components = 2)\n",
    "x_pca = pca.fit_transform(X_train)\n",
    "\n",
    "from sklearn.decomposition import PCA\n",
    "pca_test = PCA(n_components = 2)\n",
    "x_pca_test = pca_test.fit_transform(X_test)"
   ]
  },
  {
   "cell_type": "code",
   "execution_count": 82,
   "metadata": {},
   "outputs": [
    {
     "data": {
      "text/plain": [
       "array([[-4.03262270e-01,  7.11277150e-01],\n",
       "       [ 3.22364068e-02,  3.07193997e-01],\n",
       "       [-1.88750699e-01, -2.21316482e-01],\n",
       "       [ 6.32644124e-01,  7.11871795e-03],\n",
       "       [-2.74507860e-01, -2.09866225e-01],\n",
       "       [-1.77427080e-01, -2.13473645e-01],\n",
       "       [-2.52384099e-01,  4.44523272e-01],\n",
       "       [ 2.44635668e-01, -1.20326672e-01],\n",
       "       [-1.87445840e-01, -2.14801952e-01],\n",
       "       [ 7.73838216e-01,  1.73305017e-01],\n",
       "       [-2.76771525e-01,  2.93186436e-01],\n",
       "       [-2.38357600e-01,  2.99667836e-01],\n",
       "       [ 9.01902413e-01,  3.63332645e-04],\n",
       "       [-2.78742591e-01, -2.07817418e-01],\n",
       "       [-1.87903695e-01, -2.05593992e-01],\n",
       "       [-1.94996904e-02, -1.69625669e-01],\n",
       "       [ 6.09243663e-02, -1.87014264e-01],\n",
       "       [-1.48688885e-01, -2.12311426e-01],\n",
       "       [-1.81367830e-01, -2.12314957e-01],\n",
       "       [-2.37485083e-01, -2.18245910e-01],\n",
       "       [-1.36453293e-01, -2.13949774e-01],\n",
       "       [ 7.54371109e-01, -2.95717346e-02],\n",
       "       [ 7.70139981e-01, -3.11020193e-02],\n",
       "       [ 1.05573391e-01, -1.47080079e-01],\n",
       "       [-1.52193040e-01, -1.98625352e-01],\n",
       "       [-3.19756286e-01,  9.85271092e-02],\n",
       "       [ 2.44333159e-01, -1.26889133e-01],\n",
       "       [-1.67352188e-01, -2.11391035e-01],\n",
       "       [ 6.91969417e-01, -2.96182505e-02],\n",
       "       [ 1.77850331e-01, -1.44787375e-01],\n",
       "       [-3.23672502e-01,  4.71164097e-01],\n",
       "       [-1.82154456e-01, -2.12905579e-01],\n",
       "       [ 5.80175686e-01, -4.53794097e-02],\n",
       "       [-2.91596328e-01, -2.29065729e-01],\n",
       "       [ 9.50081149e-03, -1.91643909e-01],\n",
       "       [-2.54131319e-01, -2.04428801e-01],\n",
       "       [-1.88786382e-01, -2.13878452e-01],\n",
       "       [-3.14706921e-01,  2.47870929e-01],\n",
       "       [-1.87755065e-01, -2.05904867e-01],\n",
       "       [-2.60365993e-01,  1.02787749e-01],\n",
       "       [ 7.67881353e-01, -3.15362758e-02],\n",
       "       [-2.61779890e-01, -2.24849007e-01],\n",
       "       [-2.06182686e-01, -2.12242146e-01],\n",
       "       [-1.81238474e-01, -2.03988487e-01],\n",
       "       [-2.30982556e-01,  4.45580158e-01],\n",
       "       [-1.19397077e-01,  4.70083508e-01],\n",
       "       [-2.17692017e-01, -2.09621894e-01],\n",
       "       [ 1.10649309e-01,  3.18725685e-01],\n",
       "       [-2.00732839e-01, -2.08545055e-01],\n",
       "       [-1.27922972e-01, -1.99040829e-01],\n",
       "       [-9.35205678e-03, -1.77136320e-01],\n",
       "       [-2.83714367e-01,  4.28215578e-01],\n",
       "       [ 7.41105078e-01,  1.00158017e-01],\n",
       "       [ 8.08543409e-01, -1.07233135e-02],\n",
       "       [-3.43874796e-01,  6.14337003e-01],\n",
       "       [ 6.68302152e-01, -3.24999199e-02],\n",
       "       [-1.45769665e-01, -1.99152788e-01],\n",
       "       [-2.62405919e-01,  1.63272408e-01],\n",
       "       [-1.99044881e-01, -2.47287382e-02],\n",
       "       [-2.69088706e-01, -2.15742758e-01],\n",
       "       [-3.30999530e-01,  7.70190661e-02],\n",
       "       [-4.50948711e-01,  7.62333535e-01],\n",
       "       [-1.82542278e-01, -2.02495793e-01],\n",
       "       [-2.99110382e-01,  4.52655035e-01],\n",
       "       [-1.90371163e-01, -2.06492700e-01],\n",
       "       [-1.38004333e-01, -1.95242809e-01],\n",
       "       [-2.73553239e-02, -1.62337284e-01],\n",
       "       [ 6.28785387e-01,  1.52807286e-03],\n",
       "       [ 5.26927341e-01,  6.41347378e-01],\n",
       "       [-2.81141022e-01,  2.40760974e-01],\n",
       "       [-1.47565711e-01, -1.98610921e-01],\n",
       "       [ 6.10279118e-01, -1.77309767e-02],\n",
       "       [ 4.32928545e-01,  7.00206266e-01],\n",
       "       [ 6.32735117e-01,  5.11536525e-03],\n",
       "       [-2.83356057e-01, -2.08704468e-01],\n",
       "       [ 4.90175781e-01, -7.09860837e-02],\n",
       "       [-2.14414852e-01,  5.48730484e-02],\n",
       "       [-1.57917468e-01, -2.06711755e-01],\n",
       "       [ 8.23422370e-01, -1.01551219e-02],\n",
       "       [-2.22680693e-01, -2.11952632e-01],\n",
       "       [-1.87065786e-01, -2.07292513e-01],\n",
       "       [-1.26710585e-01, -1.93683856e-01],\n",
       "       [-2.28310942e-01,  2.41825229e-01],\n",
       "       [ 6.59904907e-01, -1.59505153e-02],\n",
       "       [-1.48169501e-01, -2.09920294e-01],\n",
       "       [-1.72393860e-01, -2.03909907e-01],\n",
       "       [-2.80399907e-01, -2.21634597e-02],\n",
       "       [-1.82797340e-01, -2.01387649e-01],\n",
       "       [-2.20240886e-01, -2.09884960e-01],\n",
       "       [-4.31432396e-01,  6.19352445e-01],\n",
       "       [-1.86838220e-01, -2.11509211e-01],\n",
       "       [-1.90822678e-01,  9.67748439e-02],\n",
       "       [-1.80007605e-01, -2.04541490e-01],\n",
       "       [ 5.92702576e-01,  1.91396100e-01],\n",
       "       [-2.91701753e-01,  1.89962935e-01],\n",
       "       [-1.70347911e-01, -2.03420184e-01],\n",
       "       [-3.55202699e-01,  3.67567733e-01],\n",
       "       [-2.86346238e-02, -1.75007020e-01],\n",
       "       [-2.58056208e-01, -2.23089063e-01],\n",
       "       [-2.81772495e-01, -2.15339125e-01],\n",
       "       [-2.80649923e-01,  3.42311908e-01],\n",
       "       [-2.32231907e-01, -2.17755030e-01],\n",
       "       [-1.62916212e-01, -2.04873592e-01],\n",
       "       [-2.38906770e-01, -2.03951809e-01],\n",
       "       [-1.62434334e-01, -2.01840016e-01],\n",
       "       [-1.77268533e-01, -2.03800664e-01],\n",
       "       [ 7.90379017e-01, -1.40042966e-02],\n",
       "       [ 8.21097392e-01,  7.86967859e-01],\n",
       "       [ 3.13917296e-01, -1.56863305e-01],\n",
       "       [-1.94634743e-01, -2.14302001e-01],\n",
       "       [-3.50701646e-01,  5.48216003e-01],\n",
       "       [-2.95060969e-01,  6.08700680e-02],\n",
       "       [-2.18922530e-01, -2.15120509e-01],\n",
       "       [-3.09128831e-02, -1.71179506e-01],\n",
       "       [ 7.71814113e-01,  1.99604025e-01],\n",
       "       [-2.38694753e-01,  5.45995362e-02],\n",
       "       [-2.52850331e-01,  7.98521046e-02],\n",
       "       [-1.68682416e-01,  3.79731108e-02],\n",
       "       [ 2.25892641e-01, -1.10077620e-01],\n",
       "       [-1.48852145e-01, -2.01719077e-01],\n",
       "       [-1.68920425e-01, -2.09960101e-01],\n",
       "       [ 2.64623908e-01, -1.00228641e-01],\n",
       "       [ 8.25409632e-01, -8.73885017e-03],\n",
       "       [-2.99562140e-01,  2.40013035e-01],\n",
       "       [-2.13787232e-01, -2.09369605e-01],\n",
       "       [ 8.18851039e-01, -2.35830603e-02],\n",
       "       [-1.71910285e-01, -2.12232796e-01],\n",
       "       [-3.24159494e-01,  4.35356255e-01],\n",
       "       [ 7.47402844e-01, -3.53216708e-02],\n",
       "       [ 7.52335081e-01, -3.47168107e-02],\n",
       "       [-1.31969429e-01,  3.67868997e-01],\n",
       "       [-3.42395877e-01,  2.20929162e-01],\n",
       "       [ 8.01066041e-01, -1.04977436e-02],\n",
       "       [-6.03063598e-02,  6.86190153e-02],\n",
       "       [-2.23795109e-01, -1.15850560e-01],\n",
       "       [-2.56429229e-01,  1.60093746e-01],\n",
       "       [-2.53565081e-01,  9.26771225e-02],\n",
       "       [-1.74493587e-01, -2.09911245e-01],\n",
       "       [ 7.04433189e-01, -7.66262865e-02],\n",
       "       [-4.23992542e-02, -2.01735278e-01],\n",
       "       [ 6.68613920e-01, -1.86638745e-02],\n",
       "       [-1.96619783e-01, -2.02141036e-01],\n",
       "       [-3.13625381e-01,  3.79170380e-02],\n",
       "       [-1.74054591e-01, -2.12456999e-01],\n",
       "       [-1.60726483e-01, -1.98473755e-01],\n",
       "       [-3.39595959e-01,  1.65931017e-01],\n",
       "       [ 3.65503395e-01, -9.48862408e-02],\n",
       "       [-2.81885523e-01,  4.26218497e-01],\n",
       "       [-3.23845367e-01,  5.92044887e-01]])"
      ]
     },
     "execution_count": 82,
     "metadata": {},
     "output_type": "execute_result"
    }
   ],
   "source": [
    "x_pca"
   ]
  },
  {
   "cell_type": "code",
   "execution_count": 83,
   "metadata": {},
   "outputs": [
    {
     "name": "stdout",
     "output_type": "stream",
     "text": [
      "[0.54544521 0.24929576]\n"
     ]
    }
   ],
   "source": [
    "explained_variance = pca.explained_variance_ratio_\n",
    "print(explained_variance)"
   ]
  },
  {
   "cell_type": "code",
   "execution_count": 84,
   "metadata": {},
   "outputs": [
    {
     "name": "stdout",
     "output_type": "stream",
     "text": [
      "12\n"
     ]
    }
   ],
   "source": [
    "print(int(math.sqrt(len(train))))"
   ]
  },
  {
   "cell_type": "code",
   "execution_count": 186,
   "metadata": {},
   "outputs": [],
   "source": [
    "# train point \n",
    "k=int(math.sqrt(len(train)))\n",
    "knn_clf=KNeighborsClassifier(n_neighbors = 7)\n",
    "knn_clf.fit(x_pca,y_train)\n",
    "y_pred=knn_clf.predict(x_pca_test) #These are the predicted output values7"
   ]
  },
  {
   "cell_type": "code",
   "execution_count": 187,
   "metadata": {},
   "outputs": [
    {
     "data": {
      "text/plain": [
       "array([1, 1, 1, 2, 1, 7, 1, 1, 2, 1, 1, 1, 1, 1, 1, 1, 7, 1, 2, 7, 2, 5,\n",
       "       1, 2, 1, 5, 1, 1, 1, 2, 2, 1, 1, 1, 5, 1, 2, 2, 1, 1, 1, 1, 7, 1,\n",
       "       2, 1, 2, 1, 7, 1, 2, 1, 1, 1, 1, 5, 1, 2, 1, 7, 1, 2, 1, 1, 1],\n",
       "      dtype=int64)"
      ]
     },
     "execution_count": 187,
     "metadata": {},
     "output_type": "execute_result"
    }
   ],
   "source": [
    "y_pred"
   ]
  },
  {
   "cell_type": "code",
   "execution_count": 188,
   "metadata": {},
   "outputs": [
    {
     "name": "stdout",
     "output_type": "stream",
     "text": [
      "Confusion Matrix: \n",
      "[[20  1  0  0  0  0]\n",
      " [14  7  0  2  0  0]\n",
      " [ 5  0  0  0  0  0]\n",
      " [ 0  4  0  0  0  0]\n",
      " [ 2  0  0  0  0  1]\n",
      " [ 0  2  0  2  0  5]]\n",
      "Classification Report:\n",
      "              precision    recall  f1-score   support\n",
      "\n",
      "           1       0.49      0.95      0.65        21\n",
      "           2       0.50      0.30      0.38        23\n",
      "           3       0.00      0.00      0.00         5\n",
      "           5       0.00      0.00      0.00         4\n",
      "           6       0.00      0.00      0.00         3\n",
      "           7       0.83      0.56      0.67         9\n",
      "\n",
      "    accuracy                           0.49        65\n",
      "   macro avg       0.30      0.30      0.28        65\n",
      "weighted avg       0.45      0.49      0.43        65\n",
      "\n",
      "Accuracy: 0.49230769230769234\n"
     ]
    },
    {
     "name": "stderr",
     "output_type": "stream",
     "text": [
      "D:\\flavi\\Anaconda\\lib\\site-packages\\sklearn\\metrics\\_classification.py:1221: UndefinedMetricWarning: Precision and F-score are ill-defined and being set to 0.0 in labels with no predicted samples. Use `zero_division` parameter to control this behavior.\n",
      "  _warn_prf(average, modifier, msg_start, len(result))\n"
     ]
    }
   ],
   "source": [
    "from sklearn.metrics import classification_report, confusion_matrix, accuracy_score\n",
    "conf_matrix = confusion_matrix(y_test, y_pred)\n",
    "print('Confusion Matrix: ')\n",
    "print(conf_matrix)\n",
    "rep = classification_report(y_test, y_pred)\n",
    "print('Classification Report:',)\n",
    "print (rep)\n",
    "acc = accuracy_score(y_test,y_pred)\n",
    "print('Accuracy:',acc)"
   ]
  },
  {
   "cell_type": "markdown",
   "metadata": {},
   "source": [
    "## Plots"
   ]
  },
  {
   "cell_type": "code",
   "execution_count": 189,
   "metadata": {},
   "outputs": [
    {
     "data": {
      "image/png": "[encoded data removed]",
      "text/plain": [
       "<Figure size 576x396 with 2 Axes>"
      ]
     },
     "metadata": {},
     "output_type": "display_data"
    }
   ],
   "source": [
    "fig, axes = plt.subplots(1,2)\n",
    "axes[0].scatter(X_train[:,0], X_train[:,1], c=y_train)\n",
    "axes[0].set_xlabel('x1')\n",
    "axes[0].set_ylabel('x2')\n",
    "axes[0].set_title('Before PCA')\n",
    "axes[1].scatter(x_pca[:,0], x_pca[:,1], c=y_train)\n",
    "axes[1].set_xlabel('PC1')\n",
    "axes[1].set_ylabel('PC2')\n",
    "axes[1].set_title('After PCA')\n",
    "plt.show()"
   ]
  },
  {
   "cell_type": "markdown",
   "metadata": {},
   "source": [
    "## Decision Boundary Plots"
   ]
  },
  {
   "cell_type": "code",
   "execution_count": 190,
   "metadata": {},
   "outputs": [
    {
     "data": {
      "image/png": "[encoded data removed]",
      "text/plain": [
       "<Figure size 576x396 with 1 Axes>"
      ]
     },
     "metadata": {},
     "output_type": "display_data"
    },
    {
     "data": {
      "image/png": "[encoded data removed]",
      "text/plain": [
       "<Figure size 576x396 with 1 Axes>"
      ]
     },
     "metadata": {},
     "output_type": "display_data"
    }
   ],
   "source": [
    "import matplotlib.pyplot as plt\n",
    "y =  train['type']\n",
    "n_neighbors = k \n",
    "h = .02  # step size in the mesh\n",
    "X=x_pca\n",
    "\n",
    "# Create color maps\n",
    "cmap_light = ListedColormap(['wheat', 'lightsalmon', 'mediumslateblue','paleturquoise','yellowgreen','lightgrey'])\n",
    "cmap_bold = ListedColormap(['burlywood', 'tomato', 'darkslateblue','darkturquoise','seagreen','dimgray'])\n",
    "\n",
    "for weights in ['uniform', 'distance']:\n",
    "    # we create an instance of Neighbours Classifier and fit the data.\n",
    "    clf = neighbors.KNeighborsClassifier(n_neighbors, weights=weights)\n",
    "    clf.fit(X, y)\n",
    "\n",
    "    # Plot the decision boundary. For that, we will assign a color to each\n",
    "    # point in the mesh [x_min, x_max]x[y_min, y_max].\n",
    "    x_min, x_max = X[:, 0].min() - 1, X[:, 0].max() + 1\n",
    "    y_min, y_max = X[:, 1].min() - 1, X[:, 1].max() + 1\n",
    "    xx, yy = np.meshgrid(np.arange(x_min, x_max, h),\n",
    "                         np.arange(y_min, y_max, h))\n",
    "    Z = clf.predict(np.c_[xx.ravel(), yy.ravel()])\n",
    "\n",
    "    # Put the result into a color plot\n",
    "    Z = Z.reshape(xx.shape)\n",
    "    plt.figure()\n",
    "    plt.pcolormesh(xx, yy, Z, cmap=cmap_light)\n",
    "\n",
    "    # Plot also the training points\n",
    "    plt.scatter(X[:, 0], X[:, 1], c=y, cmap=cmap_bold)\n",
    "    plt.xlim(xx.min(), xx.max())\n",
    "    plt.ylim(yy.min(), yy.max())\n",
    "    plt.title(\"6-Class classification (k = %i, weights = '%s')\"\n",
    "              % (n_neighbors, weights))\n",
    "\n",
    "plt.show()"
   ]
  }
 ],
 "metadata": {
  "kernelspec": {
   "display_name": "Python 3",
   "language": "python",
   "name": "python3"
  },
  "language_info": {
   "codemirror_mode": {
    "name": "ipython",
    "version": 3
   },
   "file_extension": ".py",
   "mimetype": "text/x-python",
   "name": "python",
   "nbconvert_exporter": "python",
   "pygments_lexer": "ipython3",
   "version": "3.7.2"
  }
 },
 "nbformat": 4,
 "nbformat_minor": 2
}

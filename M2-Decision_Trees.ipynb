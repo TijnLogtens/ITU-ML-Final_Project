{
 "cells": [
  {
   "cell_type": "markdown",
   "metadata": {},
   "source": [
    "# Method 2: Decision Trees"
   ]
  },
  {
   "cell_type": "markdown",
   "metadata": {},
   "source": [
    "We'll be applying the CART-algorithm using the Gini cost-function.\n",
    "\n",
    "Step 1/6: Import data"
   ]
  },
  {
   "cell_type": "code",
   "execution_count": 2,
   "metadata": {
    "scrolled": false
   },
   "outputs": [
    {
     "data": {
      "text/html": [
       "<div>\n",
       "<style scoped>\n",
       "    .dataframe tbody tr th:only-of-type {\n",
       "        vertical-align: middle;\n",
       "    }\n",
       "\n",
       "    .dataframe tbody tr th {\n",
       "        vertical-align: top;\n",
       "    }\n",
       "\n",
       "    .dataframe thead th {\n",
       "        text-align: right;\n",
       "    }\n",
       "</style>\n",
       "<table border=\"1\" class=\"dataframe\">\n",
       "  <thead>\n",
       "    <tr style=\"text-align: right;\">\n",
       "      <th></th>\n",
       "      <th>RI</th>\n",
       "      <th>Na</th>\n",
       "      <th>Mg</th>\n",
       "      <th>Al</th>\n",
       "      <th>Si</th>\n",
       "      <th>K</th>\n",
       "      <th>Ca</th>\n",
       "      <th>Ba</th>\n",
       "      <th>Fe</th>\n",
       "      <th>type</th>\n",
       "    </tr>\n",
       "  </thead>\n",
       "  <tbody>\n",
       "    <tr>\n",
       "      <th>0</th>\n",
       "      <td>1.51839</td>\n",
       "      <td>12.85</td>\n",
       "      <td>3.67</td>\n",
       "      <td>1.24</td>\n",
       "      <td>72.57</td>\n",
       "      <td>0.62</td>\n",
       "      <td>8.68</td>\n",
       "      <td>0.0</td>\n",
       "      <td>0.35</td>\n",
       "      <td>2</td>\n",
       "    </tr>\n",
       "    <tr>\n",
       "      <th>1</th>\n",
       "      <td>1.52081</td>\n",
       "      <td>13.78</td>\n",
       "      <td>2.28</td>\n",
       "      <td>1.43</td>\n",
       "      <td>71.99</td>\n",
       "      <td>0.49</td>\n",
       "      <td>9.85</td>\n",
       "      <td>0.0</td>\n",
       "      <td>0.17</td>\n",
       "      <td>2</td>\n",
       "    </tr>\n",
       "    <tr>\n",
       "      <th>2</th>\n",
       "      <td>1.51708</td>\n",
       "      <td>13.72</td>\n",
       "      <td>3.68</td>\n",
       "      <td>1.81</td>\n",
       "      <td>72.06</td>\n",
       "      <td>0.64</td>\n",
       "      <td>7.88</td>\n",
       "      <td>0.0</td>\n",
       "      <td>0.00</td>\n",
       "      <td>2</td>\n",
       "    </tr>\n",
       "    <tr>\n",
       "      <th>3</th>\n",
       "      <td>1.52739</td>\n",
       "      <td>11.02</td>\n",
       "      <td>0.00</td>\n",
       "      <td>0.75</td>\n",
       "      <td>73.08</td>\n",
       "      <td>0.00</td>\n",
       "      <td>14.96</td>\n",
       "      <td>0.0</td>\n",
       "      <td>0.00</td>\n",
       "      <td>2</td>\n",
       "    </tr>\n",
       "    <tr>\n",
       "      <th>4</th>\n",
       "      <td>1.52210</td>\n",
       "      <td>13.73</td>\n",
       "      <td>3.84</td>\n",
       "      <td>0.72</td>\n",
       "      <td>71.76</td>\n",
       "      <td>0.17</td>\n",
       "      <td>9.74</td>\n",
       "      <td>0.0</td>\n",
       "      <td>0.00</td>\n",
       "      <td>1</td>\n",
       "    </tr>\n",
       "  </tbody>\n",
       "</table>\n",
       "</div>"
      ],
      "text/plain": [
       "        RI     Na    Mg    Al     Si     K     Ca   Ba    Fe  type\n",
       "0  1.51839  12.85  3.67  1.24  72.57  0.62   8.68  0.0  0.35     2\n",
       "1  1.52081  13.78  2.28  1.43  71.99  0.49   9.85  0.0  0.17     2\n",
       "2  1.51708  13.72  3.68  1.81  72.06  0.64   7.88  0.0  0.00     2\n",
       "3  1.52739  11.02  0.00  0.75  73.08  0.00  14.96  0.0  0.00     2\n",
       "4  1.52210  13.73  3.84  0.72  71.76  0.17   9.74  0.0  0.00     1"
      ]
     },
     "execution_count": 2,
     "metadata": {},
     "output_type": "execute_result"
    }
   ],
   "source": [
    "import pandas as pd\n",
    "import numpy as np\n",
    "train = pd.read_csv(\"Final_project_DATA/df_train.csv\")\n",
    "test = pd.read_csv(\"Final_project_DATA/df_test.csv\")\n",
    "\n",
    "train.head()"
   ]
  },
  {
   "cell_type": "markdown",
   "metadata": {},
   "source": [
    "Find the occurences of every label in the data set."
   ]
  },
  {
   "cell_type": "code",
   "execution_count": 3,
   "metadata": {},
   "outputs": [],
   "source": [
    "def count_occ_labels(data):\n",
    "    # Counts the amount of occurences in a pandas series.\n",
    "    out = {}\n",
    "    labels = data['type'].to_numpy()\n",
    "    val, occ = np.unique(labels, return_counts=True)\n",
    "    for A, B in zip(val, occ):\n",
    "        out[A] = B\n",
    "    \n",
    "    return out"
   ]
  },
  {
   "cell_type": "code",
   "execution_count": 4,
   "metadata": {},
   "outputs": [
    {
     "name": "stdout",
     "output_type": "stream",
     "text": [
      "{1: 49, 2: 53, 3: 12, 5: 9, 6: 6, 7: 20}\n"
     ]
    },
    {
     "data": {
      "text/plain": [
       "array([2, 2, 2, 2, 1, 2, 2, 5, 2, 7, 1, 2, 7, 1, 1, 1, 7, 2, 2, 1, 2, 7,\n",
       "       7, 6, 3, 2, 6, 2, 6, 7, 1, 2, 6, 2, 7, 1, 2, 1, 1, 2, 7, 2, 1, 1,\n",
       "       2, 1, 3, 2, 2, 2, 2, 1, 7, 7, 1, 5, 1, 1, 1, 1, 1, 3, 1, 2, 3, 7,\n",
       "       2, 2, 2, 1, 3, 6, 5, 2, 1, 6, 2, 2, 7, 2, 1, 1, 3, 5, 2, 1, 1, 1,\n",
       "       1, 2, 1, 1, 1, 2, 2, 1, 2, 2, 2, 3, 2, 2, 1, 3, 1, 3, 7, 2, 5, 1,\n",
       "       2, 1, 1, 1, 7, 3, 1, 3, 5, 2, 2, 5, 7, 2, 1, 7, 2, 3, 7, 7, 2, 1,\n",
       "       7, 1, 1, 2, 2, 2, 5, 2, 5, 1, 2, 1, 1, 2, 7, 1, 1])"
      ]
     },
     "execution_count": 4,
     "metadata": {},
     "output_type": "execute_result"
    }
   ],
   "source": [
    "print(count_occ_labels(train))\n",
    "train['type'].to_numpy()"
   ]
  },
  {
   "cell_type": "markdown",
   "metadata": {},
   "source": [
    "Step 2: Create the split condition object class\n",
    "\n",
    "The split condition should hold the feature(column number) and the threshold/value that will be used as the condition.\n",
    "It also needs a method to compare the question value against the value of the passed sample."
   ]
  },
  {
   "cell_type": "code",
   "execution_count": 5,
   "metadata": {},
   "outputs": [],
   "source": [
    "class SplitCondition:\n",
    "    def __init__(self, feature, threshold):\n",
    "        self.feature = feature\n",
    "        self.threshold = threshold\n",
    "        \n",
    "    def compare(self, sample):\n",
    "        # Take sample value for feature, compare with threshold\n",
    "        s_value = sample[self.feature]\n",
    "        if isinstance(s_value,float) or isinstance(s_value,int):\n",
    "            return s_value >= self.threshold\n",
    "        else:\n",
    "            return s_value == self.threshold"
   ]
  },
  {
   "cell_type": "markdown",
   "metadata": {},
   "source": [
    "Next we need a method to split the dataset based on the questions.\n",
    "So we need to divide the samples in X into true and false samples."
   ]
  },
  {
   "cell_type": "code",
   "execution_count": 6,
   "metadata": {},
   "outputs": [],
   "source": [
    "def split(data, SplitCondition):\n",
    "    # Bad practise to append to DataFrames, so work with lists\n",
    "    trueSamples = []\n",
    "    falseSamples = []\n",
    "    for i in range(data.shape[0]):\n",
    "        if SplitCondition.compare(data.iloc[i]):\n",
    "            trueSamples.append(data.iloc[i])\n",
    "        else:\n",
    "            falseSamples.append(data.iloc[i])\n",
    "    return pd.DataFrame(trueSamples), pd.DataFrame(falseSamples)"
   ]
  },
  {
   "cell_type": "code",
   "execution_count": 7,
   "metadata": {},
   "outputs": [
    {
     "data": {
      "text/plain": [
       "RI       1.52196\n",
       "Na      14.36000\n",
       "Mg       3.85000\n",
       "Al       0.89000\n",
       "Si      71.36000\n",
       "K        0.15000\n",
       "Ca       9.15000\n",
       "Ba       0.00000\n",
       "Fe       0.00000\n",
       "type     1.00000\n",
       "Name: 59, dtype: float64"
      ]
     },
     "execution_count": 7,
     "metadata": {},
     "output_type": "execute_result"
    }
   ],
   "source": [
    "trueSamples, falseSamples = split(train, SplitCondition('RI',1.521))\n",
    "trueSamples.iloc[5]"
   ]
  },
  {
   "cell_type": "markdown",
   "metadata": {},
   "source": [
    "Now we need a cost function of sorts, a way to determine the \"purity\" a split condition or just a method that assigns some value indicating the quality of a node so we can identify the best question to use at this point. \n",
    "\n",
    "CART uses the Gini Impurity for this purpose."
   ]
  },
  {
   "cell_type": "code",
   "execution_count": 8,
   "metadata": {},
   "outputs": [],
   "source": [
    "def gini(samples):\n",
    "    cnt = count_occ_labels(samples)\n",
    "    impurity = 1\n",
    "    for i in cnt:\n",
    "        probability = cnt[i]/float(len(samples))\n",
    "        impurity -= probability**2\n",
    "    return impurity"
   ]
  },
  {
   "cell_type": "code",
   "execution_count": 9,
   "metadata": {},
   "outputs": [
    {
     "name": "stdout",
     "output_type": "stream",
     "text": [
      "0.7352537722908092\n"
     ]
    }
   ],
   "source": [
    "print(gini(trueSamples))"
   ]
  },
  {
   "cell_type": "markdown",
   "metadata": {},
   "source": [
    "To really use Gini we need to measure the information gain of a question. This way we can actually qualify a question over another, since just the impurity of a single set of samples is not enough. We need to know the uncertainty of the starting/previous node and the impurity of the two new child nodes which will be introduced based on the question."
   ]
  },
  {
   "cell_type": "code",
   "execution_count": 10,
   "metadata": {},
   "outputs": [],
   "source": [
    "def InformationGain(true, false, previous):\n",
    "    p = float(len(true)) / (len(true) + len(false))\n",
    "    return previous - p * gini(true) - (1 - p) * gini(false)"
   ]
  },
  {
   "cell_type": "markdown",
   "metadata": {},
   "source": [
    "So how do we use this \"Information Gainzzz\" to find our best split condition? Try every possible question and see what works best."
   ]
  },
  {
   "cell_type": "code",
   "execution_count": 11,
   "metadata": {},
   "outputs": [],
   "source": [
    "def BestCondition(samples):\n",
    "    mostGains = 0 \n",
    "    bestCondition = None \n",
    "    previous = gini(samples) # needed for IG \n",
    "    n = samples.shape[1] - 1 # number of features\n",
    "    \n",
    "    for i in range(n):\n",
    "        uniques = samples.iloc[:,i].unique() # brute force // 0 refinement let's go\n",
    "        \n",
    "        for j in uniques:\n",
    "            condition = SplitCondition(samples.columns[i], j) \n",
    "            trueSamples, falseSamples = split(samples, condition)\n",
    "            \n",
    "            if len(trueSamples.index) == 0 or len(falseSamples.index) == 0: # minor refinement\n",
    "                continue\n",
    "                \n",
    "            gains = InformationGain(trueSamples, falseSamples, previous)\n",
    "            if gains > mostGains:\n",
    "                mostGains, bestCondition = gains, condition\n",
    "                \n",
    "    return mostGains, bestCondition"
   ]
  },
  {
   "cell_type": "markdown",
   "metadata": {},
   "source": [
    "Now all we need is treeponents, such as nodes and leafs and a method tree builder."
   ]
  },
  {
   "cell_type": "code",
   "execution_count": 12,
   "metadata": {},
   "outputs": [],
   "source": [
    "class Leaf:\n",
    "    def __init__(self, samples):\n",
    "        self.pred = count_occ_labels(samples)"
   ]
  },
  {
   "cell_type": "code",
   "execution_count": 13,
   "metadata": {},
   "outputs": [],
   "source": [
    "class Node:\n",
    "    def __init__(self, condition, left, right):\n",
    "        self.condition = condition\n",
    "        self.left = left\n",
    "        self.right = right"
   ]
  },
  {
   "cell_type": "markdown",
   "metadata": {},
   "source": [
    "Treebuilder essentially just recursively creates splits in the data until there's no more information gain, at which point it puts a leaf down."
   ]
  },
  {
   "cell_type": "code",
   "execution_count": 16,
   "metadata": {},
   "outputs": [],
   "source": [
    "def Treebuilder(samples):\n",
    "    gainz, condition = BestCondition(samples)\n",
    "    \n",
    "    if gainz == 0:\n",
    "        return Leaf(samples)\n",
    "    \n",
    "    trueSamples, falseSamples = split(samples, condition)\n",
    "    \n",
    "    left = Treebuilder(trueSamples)\n",
    "    right = Treebuilder(falseSamples)\n",
    "    \n",
    "    return Node(condition, left, right)"
   ]
  },
  {
   "cell_type": "code",
   "execution_count": 17,
   "metadata": {},
   "outputs": [],
   "source": [
    "tree = Treebuilder(train)"
   ]
  },
  {
   "cell_type": "markdown",
   "metadata": {},
   "source": [
    "Now we need to classify based on the just now generated nodes and their branches."
   ]
  },
  {
   "cell_type": "code",
   "execution_count": 21,
   "metadata": {},
   "outputs": [],
   "source": [
    "def classify(sample, Node):\n",
    "    if isinstance(Node, Leaf):\n",
    "        return Node.pred\n",
    "    \n",
    "    if Node.condition.compare(sample):\n",
    "        return classify(sample, Node.left)\n",
    "    else:\n",
    "        return classify(sample, Node.right)"
   ]
  },
  {
   "cell_type": "code",
   "execution_count": 49,
   "metadata": {},
   "outputs": [
    {
     "name": "stdout",
     "output_type": "stream",
     "text": [
      "RI       1.52227\n",
      "Na      14.17000\n",
      "Mg       3.81000\n",
      "Al       0.78000\n",
      "Si      71.35000\n",
      "K        0.00000\n",
      "Ca       9.69000\n",
      "Ba       0.00000\n",
      "Fe       0.00000\n",
      "type     1.00000\n",
      "Name: 40, dtype: float64\n",
      "1.0\n"
     ]
    }
   ],
   "source": [
    "#len(test.index)\n",
    "print(test.iloc[40])\n",
    "print(test.iloc[40]['type'])"
   ]
  },
  {
   "cell_type": "code",
   "execution_count": 56,
   "metadata": {},
   "outputs": [
    {
     "name": "stdout",
     "output_type": "stream",
     "text": [
      "Accuracy:  67.6923076923077\n"
     ]
    }
   ],
   "source": [
    "biggus = []\n",
    "\n",
    "for i in range(len(test.index)):\n",
    "    pred = list(classify(test.iloc[i],tree).keys())[0]\n",
    "    \n",
    "    if pred == test.iloc[i]['type']:\n",
    "        biggus.append(list(classify(test.iloc[i],tree).keys())[0])\n",
    "    \n",
    "acc = len(biggus)/len(test.index)*100\n",
    "print(\"Accuracy: \" , acc)"
   ]
  }
 ],
 "metadata": {
  "kernelspec": {
   "display_name": "Python 3",
   "language": "python",
   "name": "python3"
  },
  "language_info": {
   "codemirror_mode": {
    "name": "ipython",
    "version": 3
   },
   "file_extension": ".py",
   "mimetype": "text/x-python",
   "name": "python",
   "nbconvert_exporter": "python",
   "pygments_lexer": "ipython3",
   "version": "3.8.5"
  }
 },
 "nbformat": 4,
 "nbformat_minor": 4
}

{
 "cells": [
  {
   "cell_type": "code",
   "execution_count": 81,
   "metadata": {},
   "outputs": [],
   "source": [
    "# Importing all necessary libraries\n",
    "import pandas as pd\n",
    "import numpy as np\n",
    "from sklearn import svm\n",
    "from sklearn.metrics import confusion_matrix, classification_report\n",
    "import matplotlib.pyplot as plt\n",
    "from sklearn import metrics"
   ]
  },
  {
   "cell_type": "code",
   "execution_count": 82,
   "metadata": {},
   "outputs": [],
   "source": [
    "# Importing data\n",
    "train = pd.read_csv(\"Final_project_DATA/df_train.csv\")\n",
    "test = pd.read_csv(\"Final_project_DATA/df_test.csv\")"
   ]
  },
  {
   "cell_type": "code",
   "execution_count": 83,
   "metadata": {},
   "outputs": [],
   "source": [
    "# Splitting the labels from the rest\n",
    "X_train = train.drop('type', axis = 1)\n",
    "y_train = train['type']\n",
    "X_test = test.drop('type',axis = 1)\n",
    "y_test = test['type']"
   ]
  },
  {
   "cell_type": "code",
   "execution_count": 95,
   "metadata": {},
   "outputs": [],
   "source": [
    "# This is the linear kernel\n",
    "linear = svm.SVC(kernel='linear', decision_function_shape='ovo').fit(X_train, y_train)"
   ]
  },
  {
   "cell_type": "code",
   "execution_count": 101,
   "metadata": {},
   "outputs": [],
   "source": [
    "# This is the Radial Basis Function kernel\n",
    "rbf = svm.SVC(kernel='rbf', gamma=1, decision_function_shape='ovo').fit(X_train, y_train)"
   ]
  },
  {
   "cell_type": "code",
   "execution_count": 102,
   "metadata": {},
   "outputs": [],
   "source": [
    "# Polynomyal kernel\n",
    "poly = svm.SVC(kernel='poly', degree=3, decision_function_shape='ovo').fit(X_train, y_train)"
   ]
  },
  {
   "cell_type": "code",
   "execution_count": 103,
   "metadata": {},
   "outputs": [],
   "source": [
    "# Sigmoid kernel\n",
    "sig = svm.SVC(kernel='sigmoid', decision_function_shape='ovo').fit(X_train, y_train)"
   ]
  },
  {
   "cell_type": "code",
   "execution_count": 104,
   "metadata": {},
   "outputs": [],
   "source": [
    "# Make predictions on test set\n",
    "linear_pred = linear.predict(X_test)\n",
    "poly_pred = poly.predict(X_test)\n",
    "rbf_pred = rbf.predict(X_test)\n",
    "sig_pred = sig.predict(X_test)"
   ]
  },
  {
   "cell_type": "code",
   "execution_count": 105,
   "metadata": {},
   "outputs": [
    {
     "name": "stdout",
     "output_type": "stream",
     "text": [
      "Accuracy Linear Kernel: 0.5692307692307692\n",
      "Accuracy Polynomial Kernel: 0.35384615384615387\n",
      "Accuracy Radial Basis Kernel: 0.7384615384615385\n",
      "Accuracy Sigmoid Kernel: 0.35384615384615387\n"
     ]
    }
   ],
   "source": [
    "# Retrieve the accuracy and print it for all 4 kernel functions\n",
    "accuracy_lin = linear.score(X_test, y_test)\n",
    "accuracy_poly = poly.score(X_test, y_test)\n",
    "accuracy_rbf = rbf.score(X_test, y_test)\n",
    "accuracy_sig = sig.score(X_test, y_test)\n",
    "print('Accuracy Linear Kernel:', accuracy_lin)\n",
    "print('Accuracy Polynomial Kernel:', accuracy_poly)\n",
    "print('Accuracy Radial Basis Kernel:', accuracy_rbf)\n",
    "print('Accuracy Sigmoid Kernel:', accuracy_sig)"
   ]
  },
  {
   "cell_type": "code",
   "execution_count": 90,
   "metadata": {},
   "outputs": [
    {
     "name": "stdout",
     "output_type": "stream",
     "text": [
      "Accuracy linear: 0.676923076923077\n",
      "Accuracy Poly: 0.35384615384615387\n",
      "Accuracy Radial: 0.7384615384615385\n",
      "Accuracy Sig: 0.35384615384615387\n"
     ]
    }
   ],
   "source": [
    "# Different way to get accuracy\n",
    "print(\"Accuracy linear:\", metrics.accuracy_score(y_test, linear_pred))\n",
    "print(\"Accuracy Poly:\", metrics.accuracy_score(y_test, poly_pred))\n",
    "print(\"Accuracy Radial:\", metrics.accuracy_score(y_test, rbf_pred))\n",
    "print(\"Accuracy Sig:\", metrics.accuracy_score(y_test, sig_pred))"
   ]
  },
  {
   "cell_type": "code",
   "execution_count": 91,
   "metadata": {},
   "outputs": [
    {
     "name": "stdout",
     "output_type": "stream",
     "text": [
      "              precision    recall  f1-score   support\n",
      "\n",
      "           1       0.65      0.81      0.72        21\n",
      "           2       0.64      0.70      0.67        23\n",
      "           3       0.00      0.00      0.00         5\n",
      "           5       0.67      1.00      0.80         4\n",
      "           6       0.00      0.00      0.00         3\n",
      "           7       1.00      0.78      0.88         9\n",
      "\n",
      "    accuracy                           0.68        65\n",
      "   macro avg       0.49      0.55      0.51        65\n",
      "weighted avg       0.62      0.68      0.64        65\n",
      "\n"
     ]
    },
    {
     "name": "stderr",
     "output_type": "stream",
     "text": [
      "D:\\flavi\\Anaconda\\lib\\site-packages\\sklearn\\metrics\\_classification.py:1221: UndefinedMetricWarning: Precision and F-score are ill-defined and being set to 0.0 in labels with no predicted samples. Use `zero_division` parameter to control this behavior.\n",
      "  _warn_prf(average, modifier, msg_start, len(result))\n"
     ]
    }
   ],
   "source": [
    "print(classification_report(y_test, linear_pred))"
   ]
  },
  {
   "cell_type": "code",
   "execution_count": 92,
   "metadata": {},
   "outputs": [
    {
     "name": "stdout",
     "output_type": "stream",
     "text": [
      "              precision    recall  f1-score   support\n",
      "\n",
      "           1       0.00      0.00      0.00        21\n",
      "           2       0.35      1.00      0.52        23\n",
      "           3       0.00      0.00      0.00         5\n",
      "           5       0.00      0.00      0.00         4\n",
      "           6       0.00      0.00      0.00         3\n",
      "           7       0.00      0.00      0.00         9\n",
      "\n",
      "    accuracy                           0.35        65\n",
      "   macro avg       0.06      0.17      0.09        65\n",
      "weighted avg       0.13      0.35      0.18        65\n",
      "\n"
     ]
    }
   ],
   "source": [
    "print(classification_report(y_test, poly_pred))"
   ]
  },
  {
   "cell_type": "code",
   "execution_count": 93,
   "metadata": {},
   "outputs": [
    {
     "name": "stdout",
     "output_type": "stream",
     "text": [
      "              precision    recall  f1-score   support\n",
      "\n",
      "           1       0.72      0.86      0.78        21\n",
      "           2       0.69      0.87      0.77        23\n",
      "           3       0.00      0.00      0.00         5\n",
      "           5       1.00      0.75      0.86         4\n",
      "           6       0.00      0.00      0.00         3\n",
      "           7       1.00      0.78      0.88         9\n",
      "\n",
      "    accuracy                           0.74        65\n",
      "   macro avg       0.57      0.54      0.55        65\n",
      "weighted avg       0.68      0.74      0.70        65\n",
      "\n"
     ]
    }
   ],
   "source": [
    "print(classification_report(y_test, rbf_pred))"
   ]
  },
  {
   "cell_type": "code",
   "execution_count": 94,
   "metadata": {},
   "outputs": [
    {
     "name": "stdout",
     "output_type": "stream",
     "text": [
      "              precision    recall  f1-score   support\n",
      "\n",
      "           1       0.00      0.00      0.00        21\n",
      "           2       0.35      1.00      0.52        23\n",
      "           3       0.00      0.00      0.00         5\n",
      "           5       0.00      0.00      0.00         4\n",
      "           6       0.00      0.00      0.00         3\n",
      "           7       0.00      0.00      0.00         9\n",
      "\n",
      "    accuracy                           0.35        65\n",
      "   macro avg       0.06      0.17      0.09        65\n",
      "weighted avg       0.13      0.35      0.18        65\n",
      "\n"
     ]
    }
   ],
   "source": [
    "print(classification_report(y_test, sig_pred))"
   ]
  }
 ],
 "metadata": {
  "kernelspec": {
   "display_name": "Python 3",
   "language": "python",
   "name": "python3"
  },
  "language_info": {
   "codemirror_mode": {
    "name": "ipython",
    "version": 3
   },
   "file_extension": ".py",
   "mimetype": "text/x-python",
   "name": "python",
   "nbconvert_exporter": "python",
   "pygments_lexer": "ipython3",
   "version": "3.7.2"
  }
 },
 "nbformat": 4,
 "nbformat_minor": 2
}

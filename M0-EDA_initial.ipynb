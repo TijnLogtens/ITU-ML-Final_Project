{
 "cells": [
  {
   "cell_type": "code",
   "execution_count": 1,
   "metadata": {},
   "outputs": [],
   "source": [
    "import numpy as np\n",
    "import pandas as pd\n",
    "import matplotlib.pyplot as plt\n",
    "from mpl_toolkits.mplot3d import Axes3D\n",
    "plt.style.use('seaborn')\n",
    "import pickle\n",
    "import re"
   ]
  },
  {
   "cell_type": "code",
   "execution_count": 2,
   "metadata": {},
   "outputs": [],
   "source": [
    "df_train = pd.read_csv(\"df_train.csv\")\n",
    "df_test = pd.read_csv(\"df_test.csv\")\n",
    "\n",
    "df_train = df_train.replace({\"type\":1},0)\n",
    "df_train = df_train.replace({\"type\":2},1)\n",
    "df_train = df_train.replace({\"type\":3},2)\n",
    "df_train = df_train.replace({\"type\":5},3)\n",
    "df_train = df_train.replace({\"type\":6},4)\n",
    "df_train = df_train.replace({\"type\":7},5)\n",
    "\n",
    "df_test = df_test.replace({\"type\":1},0)\n",
    "df_test = df_test.replace({\"type\":2},1)\n",
    "df_test = df_test.replace({\"type\":3},2)\n",
    "df_test = df_test.replace({\"type\":5},3)\n",
    "df_test = df_test.replace({\"type\":6},4)\n",
    "df_test = df_test.replace({\"type\":7},5)\n",
    "\n",
    "\n",
    "X = df_train.to_numpy()[:,:-1]\n",
    "y = df_train.to_numpy()[:,-1:]\n",
    "\n",
    "\n",
    "X_test = df_test.to_numpy()[:,:-1]\n",
    "y_test = df_test.to_numpy()[:,-1:]"
   ]
  },
  {
   "cell_type": "markdown",
   "metadata": {},
   "source": [
    "# M0-EDA\n",
    "\n",
    "## Preliminary EDA\n",
    "\n",
    "For the EDA we started by checking the dymensions and distribution of our dataset. From our preliminary EDA we found the data set to be quite small and sparse. \n",
    "\n",
    "* insert plot here *\n",
    "\n",
    "When looking at a histogram of the class distributions, we see that they're quite uneven aswell. A data set with the dimensions of (200,9) is not neccesarily ideal for a 6 class classification. This might be compounded by the uneven distribution of the dataset as there is a higher risk for overfitting, when validation our models on an subsection of an already small dataset. There are ways of of combating this tendency towards overfitting though. \n",
    "\n",
    "## K-folds crossvalidation\n",
    "\n",
    "K-folds crossvalidation splits the dataset into K folds. It then goes through each split, using it as a validation set for the model and then generates K scores. We can then calculate the mean and variance of the scores to see how the model perfomed. This approach helps when we try to find the right hyperparameters for our models. It makes it less likely to choose a model that is biased towards the validation set. This is especially important with small, sparse and unevenly distributed datasets, as you're less likely to make a split in the dataset that lessens the datas integrity or even worse, completely omits a class. The amount of folds can also be treated as a hyperparameter, but the variance tends to get higher when introducing more folds when dealing with smaller datasets. \n",
    "\n",
    "## LDA plots\n",
    "\n",
    "The next thing we wanted to find out about our data is how the data is clustered. As we're using LDA as a classifications algorithm, we can plot the dimensionality reduction performed. We do this to both get a sence of what our results might be, but also to get a general idea of which classes might be more clustered or correlated with eachother. The LDA projection maximizes the seperation of our classes, so it should be able to show with accuracy how seperable our classes are from eachother. \n",
    "\n",
    "* Insert plot here * \n",
    "\n",
    "We can see from the projection, that the window classes are very clustered, which points toward the chemical makeup being very similar. This might be intuative as window glass has very similar attributes, being clearly seethrough, somewhat insulating and quite sturdy. When looking at the rest of our classes they are somewhat clustered, but they are very sparse and have some outlier values. This tells us that window classes might be harder to accuratly classify, and will have a lower precision, recall and f1 score, due to the clustering. The rest of the classes might be easier to classify if the model can take into acount their low frequency in the dataset. Anything naive-baise might have a hard time with this though. "
   ]
  },
  {
   "cell_type": "code",
   "execution_count": 8,
   "metadata": {},
   "outputs": [
    {
     "data": {
      "text/plain": [
       "(array([49.,  0., 53.,  0., 12.,  0.,  9.,  0.,  6., 20.]),\n",
       " array([0. , 0.5, 1. , 1.5, 2. , 2.5, 3. , 3.5, 4. , 4.5, 5. ]),\n",
       " <a list of 10 Patch objects>)"
      ]
     },
     "execution_count": 8,
     "metadata": {},
     "output_type": "execute_result"
    },
    {
     "data": {
      "image/png": "[encoded data removed]",
      "text/plain": [
       "<Figure size 432x288 with 1 Axes>"
      ]
     },
     "metadata": {
      "needs_background": "light"
     },
     "output_type": "display_data"
    }
   ],
   "source": [
    "plt.hist(df_train[\"type\"])"
   ]
  },
  {
   "cell_type": "code",
   "execution_count": 6,
   "metadata": {},
   "outputs": [
    {
     "data": {
      "text/plain": [
       "1    53\n",
       "0    49\n",
       "5    20\n",
       "2    12\n",
       "3     9\n",
       "4     6\n",
       "Name: type, dtype: int64"
      ]
     },
     "execution_count": 6,
     "metadata": {},
     "output_type": "execute_result"
    }
   ],
   "source": [
    "df_train[\"type\"].value_counts()"
   ]
  },
  {
   "cell_type": "code",
   "execution_count": null,
   "metadata": {},
   "outputs": [],
   "source": [
    "df_test[\"\"]"
   ]
  }
 ],
 "metadata": {
  "kernelspec": {
   "display_name": "Python 3",
   "language": "python",
   "name": "python3"
  },
  "language_info": {
   "codemirror_mode": {
    "name": "ipython",
    "version": 3
   },
   "file_extension": ".py",
   "mimetype": "text/x-python",
   "name": "python",
   "nbconvert_exporter": "python",
   "pygments_lexer": "ipython3",
   "version": "3.7.4"
  }
 },
 "nbformat": 4,
 "nbformat_minor": 2
}
